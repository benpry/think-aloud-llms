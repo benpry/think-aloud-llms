{
 "cells": [
  {
   "cell_type": "code",
   "execution_count": 6,
   "metadata": {},
   "outputs": [],
   "source": [
    "import pandas as pd\n",
    "from pyprojroot import here"
   ]
  },
  {
   "cell_type": "code",
   "execution_count": 7,
   "metadata": {},
   "outputs": [],
   "source": [
    "df = pd.read_csv(here(\"data/processed/full-experiment/full-experiment-trials.csv\"))\n",
    "df = df[df[\"practice\"] == False]"
   ]
  },
  {
   "cell_type": "code",
   "execution_count": 8,
   "metadata": {},
   "outputs": [
    {
     "name": "stdout",
     "output_type": "stream",
     "text": [
      "trials before any exclusions:  6400\n",
      "trials excluded for invalid audio:  17\n",
      "trials excluded for being irrelevant:  1240\n",
      "trials excluded because the participant had too many exclusions:  174\n",
      "number of trials that repeat a practice trial: 22\n",
      "trials after all exclusions:  4947\n",
      "number of unique participants: 541\n"
     ]
    }
   ],
   "source": [
    "print(\"trials before any exclusions: \", len(df))\n",
    "print(\n",
    "    \"trials excluded for invalid audio: \",\n",
    "    len(df[df[\"audio_filepath\"] == \"NONE\"]),\n",
    ")\n",
    "df = df[df[\"audio_filepath\"] != \"NONE\"]\n",
    "print(\n",
    "    \"trials excluded for being irrelevant: \",\n",
    "    len(df[df[\"relevant\"] == 0]),\n",
    ")\n",
    "df = df[df[\"relevant\"] == 1]\n",
    "pid_counts = df[\"pid\"].value_counts()\n",
    "\n",
    "# Get participant IDs with 5 or fewer trials\n",
    "pids_with_few_trials = pid_counts[pid_counts <= 5].index.tolist()\n",
    "print(\n",
    "    \"trials excluded because the participant had too many exclusions: \",\n",
    "    len(df[df[\"pid\"].isin(pids_with_few_trials)]),\n",
    ")\n",
    "\n",
    "df = df[~df[\"pid\"].isin(pids_with_few_trials)]\n",
    "\n",
    "df_practice_repeats = df[df[\"choices\"] == \"[1,1,2,6]\"]\n",
    "print(f\"number of trials that repeat a practice trial: {len(df_practice_repeats)}\")\n",
    "\n",
    "df = df[~(df[\"choices\"] == \"[1,1,2,6]\")]\n",
    "\n",
    "print(\"trials after all exclusions: \", len(df))\n",
    "print(\"number of unique participants:\", len(df[\"pid\"].unique()))"
   ]
  }
 ],
 "metadata": {
  "kernelspec": {
   "display_name": "verbal-protocol-local",
   "language": "python",
   "name": "python3"
  },
  "language_info": {
   "codemirror_mode": {
    "name": "ipython",
    "version": 3
   },
   "file_extension": ".py",
   "mimetype": "text/x-python",
   "name": "python",
   "nbconvert_exporter": "python",
   "pygments_lexer": "ipython3",
   "version": "3.12.2"
  }
 },
 "nbformat": 4,
 "nbformat_minor": 2
}
